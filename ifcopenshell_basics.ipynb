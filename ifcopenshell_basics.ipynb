{
 "cells": [
  {
   "cell_type": "code",
   "execution_count": 1,
   "metadata": {},
   "outputs": [],
   "source": [
    "import ifcopenshell"
   ]
  },
  {
   "cell_type": "markdown",
   "metadata": {},
   "source": [
    "## IFC Spatial Hierarchy\n",
    "\n",
    "![](https://wiki.osarch.org/images/e/e1/Ifc-spatial-tree.png)"
   ]
  },
  {
   "cell_type": "markdown",
   "metadata": {},
   "source": [
    "We will try now to go down the spatial tree:"
   ]
  },
  {
   "cell_type": "code",
   "execution_count": 2,
   "metadata": {},
   "outputs": [],
   "source": [
    "file = ifcopenshell.open(r\"C:\\Users\\kbora\\OneDrive - BuroHappold\\Projects and Tutorials\\Iconic Gas Station\\IFC files\\IFC Files\\02-211101-4800000773-BHD-STR-MDL-200002.ifc\")"
   ]
  },
  {
   "cell_type": "code",
   "execution_count": 4,
   "metadata": {},
   "outputs": [
    {
     "name": "stdout",
     "output_type": "stream",
     "text": [
      "#108=IfcProject('244ZHSQ514pf_AikbHOUOf',#18,'0054969',$,$,'ICONIC GAS STATION HOTEL, RESORT & RESORT VILLAS','INFO/ REVIEW/ PHASE',(#100),#97)\n"
     ]
    }
   ],
   "source": [
    "project = file.by_type(\"IfcProject\")[0]\n",
    "print(project)"
   ]
  },
  {
   "cell_type": "code",
   "execution_count": 8,
   "metadata": {},
   "outputs": [
    {
     "data": {
      "text/plain": [
       "#387=IfcSite('244ZHSQ514pf_AikbHOUOh',#18,'Default',$,$,#386,$,$,.ELEMENT.,(28,53,5,324262),(34,49,45,954145),0.,$,$)"
      ]
     },
     "execution_count": 8,
     "metadata": {},
     "output_type": "execute_result"
    }
   ],
   "source": [
    "site = project.IsDecomposedBy[0].RelatedObjects[0]\n",
    "site"
   ]
  },
  {
   "cell_type": "code",
   "execution_count": 11,
   "metadata": {},
   "outputs": [
    {
     "data": {
      "text/plain": [
       "#113=IfcBuilding('244ZHSQ514pf_AikbHOUOe',#18,'HOTEL',$,$,#111,$,'HOTEL',.ELEMENT.,$,$,#112)"
      ]
     },
     "execution_count": 11,
     "metadata": {},
     "output_type": "execute_result"
    }
   ],
   "source": [
    "building = site.IsDecomposedBy[0].RelatedObjects[0]\n",
    "building"
   ]
  },
  {
   "cell_type": "code",
   "execution_count": 17,
   "metadata": {},
   "outputs": [
    {
     "name": "stdout",
     "output_type": "stream",
     "text": [
      "There are around 68 storeys in the Bulding. Some of them are:\n"
     ]
    },
    {
     "data": {
      "text/plain": [
       "(#117=IfcBuildingStorey('2sCrUZtYT0NhHXf7V9QcfJ',#18,'FOUNDATION',$,'Level:1.8mm Text - 4mm Head (Project)',#116,$,'FOUNDATION',.ELEMENT.,-3999.9999999999959),\n",
       " #120=IfcBuildingStorey('2sCrUZtYT0NhHXf7V9Qcel',#18,'G01',$,'Level:2.5mm Text - 4mm Head (Project)',#119,$,'G01',.ELEMENT.,-4.3314685171935709E-12),\n",
       " #124=IfcBuildingStorey('3wt2yw4srC8Ak3aAWG3Cqh',#18,'LEVEL 01',$,'Level:2.5mm Text - 4mm Head (Shared)',#123,$,'LEVEL 01',.ELEMENT.,3000.),\n",
       " #128=IfcBuildingStorey('2oRoUfdjr6JOdNkbkMAODQ',#18,'LEVEL 02',$,'Level:2.5mm Text - 4mm Head (Shared)',#127,$,'LEVEL 02',.ELEMENT.,6000.),\n",
       " #132=IfcBuildingStorey('2sCrUZtYT0NhHXf7V9QXNz',#18,'T1 & T2 F01',$,'Level:1.8mm Text - 4mm Head (Project)',#131,$,'T1 & T2 F01',.ELEMENT.,7999.9999999999836))"
      ]
     },
     "execution_count": 17,
     "metadata": {},
     "output_type": "execute_result"
    }
   ],
   "source": [
    "building_storeys = building.IsDecomposedBy[0].RelatedObjects\n",
    "print(f\"There are around {len(building_storeys)} storeys in the Bulding. Some of them are:\")\n",
    "building_storeys[0:5]"
   ]
  },
  {
   "cell_type": "markdown",
   "metadata": {},
   "source": [
    "Now lets check the elements in one of the storeys:"
   ]
  },
  {
   "cell_type": "code",
   "execution_count": 19,
   "metadata": {},
   "outputs": [
    {
     "data": {
      "text/plain": [
       "{'id': 117,\n",
       " 'type': 'IfcBuildingStorey',\n",
       " 'GlobalId': '2sCrUZtYT0NhHXf7V9QcfJ',\n",
       " 'OwnerHistory': #18=IfcOwnerHistory(#17,#2,$,.NOCHANGE.,$,$,$,1692972501),\n",
       " 'Name': 'FOUNDATION',\n",
       " 'Description': None,\n",
       " 'ObjectType': 'Level:1.8mm Text - 4mm Head (Project)',\n",
       " 'ObjectPlacement': #116=IfcLocalPlacement(#111,#115),\n",
       " 'Representation': None,\n",
       " 'LongName': 'FOUNDATION',\n",
       " 'CompositionType': 'ELEMENT',\n",
       " 'Elevation': -3999.999999999996}"
      ]
     },
     "execution_count": 19,
     "metadata": {},
     "output_type": "execute_result"
    }
   ],
   "source": [
    "foundation = building_storeys[0]\n",
    "foundation.get_info()"
   ]
  },
  {
   "cell_type": "markdown",
   "metadata": {},
   "source": [
    "Now printout all the elements contained in the first storey of the building:"
   ]
  },
  {
   "cell_type": "code",
   "execution_count": 22,
   "metadata": {},
   "outputs": [
    {
     "data": {
      "text/plain": [
       "(#95663=IfcWall('1ZFBulbQ91DukoiuQig9$b',#18,'Basic Wall:STR_RC WALL_500 THK_TEN:2333042',$,'Basic Wall:STR_RC WALL_500 THK_TEN',#95651,#95662,'2333042',.NOTDEFINED.),\n",
       " #95714=IfcWall('1ZFBulbQ91DukoiuQig9$a',#18,'Basic Wall:STR_RC WALL_500 THK_TEN:2333043',$,'Basic Wall:STR_RC WALL_500 THK_TEN',#95702,#95713,'2333043',.NOTDEFINED.),\n",
       " #95763=IfcWall('1ZFBulbQ91DukoiuQig9$Z',#18,'Basic Wall:STR_RC WALL_500 THK_TEN:2333044',$,'Basic Wall:STR_RC WALL_500 THK_TEN',#95751,#95762,'2333044',.NOTDEFINED.),\n",
       " #95812=IfcWall('1ZFBulbQ91DukoiuQig9$Y',#18,'Basic Wall:STR_RC WALL_500 THK_TEN:2333045',$,'Basic Wall:STR_RC WALL_500 THK_TEN',#95800,#95811,'2333045',.NOTDEFINED.),\n",
       " #95861=IfcWall('1ZFBulbQ91DukoiuQig9$X',#18,'Basic Wall:STR_RC WALL_500 THK_TEN:2333046',$,'Basic Wall:STR_RC WALL_500 THK_TEN',#95849,#95860,'2333046',.NOTDEFINED.),\n",
       " #95910=IfcWall('1ZFBulbQ91DukoiuQig9$W',#18,'Basic Wall:STR_RC WALL_500 THK_TEN:2333047',$,'Basic Wall:STR_RC WALL_500 THK_TEN',#95898,#95909,'2333047',.NOTDEFINED.),\n",
       " #95959=IfcWall('1ZFBulbQ91DukoiuQig9$l',#18,'Basic Wall:STR_RC WALL_500 THK_TEN:2333048',$,'Basic Wall:STR_RC WALL_500 THK_TEN',#95947,#95958,'2333048',.NOTDEFINED.),\n",
       " #96008=IfcWall('1ZFBulbQ91DukoiuQig9$k',#18,'Basic Wall:STR_RC WALL_500 THK_TEN:2333049',$,'Basic Wall:STR_RC WALL_500 THK_TEN',#95996,#96007,'2333049',.NOTDEFINED.),\n",
       " #96057=IfcWall('1ZFBulbQ91DukoiuQig9$j',#18,'Basic Wall:STR_RC WALL_500 THK_TEN:2333050',$,'Basic Wall:STR_RC WALL_500 THK_TEN',#96045,#96056,'2333050',.NOTDEFINED.),\n",
       " #96106=IfcWall('1ZFBulbQ91DukoiuQig9$i',#18,'Basic Wall:STR_RC WALL_500 THK_TEN:2333051',$,'Basic Wall:STR_RC WALL_500 THK_TEN',#96094,#96105,'2333051',.NOTDEFINED.),\n",
       " #96155=IfcWall('1ZFBulbQ91DukoiuQig9$h',#18,'Basic Wall:STR_RC WALL_500 THK_TEN:2333052',$,'Basic Wall:STR_RC WALL_500 THK_TEN',#96143,#96154,'2333052',.NOTDEFINED.),\n",
       " #96204=IfcWall('1ZFBulbQ91DukoiuQig9$g',#18,'Basic Wall:STR_RC WALL_500 THK_TEN:2333053',$,'Basic Wall:STR_RC WALL_500 THK_TEN',#96192,#96203,'2333053',.NOTDEFINED.),\n",
       " #96253=IfcSlab('1ZFBulbQ91DukoiuQig9qE',#18,'Floor:STR_RC SLAB_500 THK_TEN:2333593',$,'Floor:STR_RC SLAB_500 THK_TEN',#96240,#96252,'2333593',.FLOOR.),\n",
       " #96307=IfcSlab('1ZFBulbQ91DukoiuQig9qs',#18,'Floor:STR_RC SLAB_500 THK_TEN:2333601',$,'Floor:STR_RC SLAB_500 THK_TEN',#96294,#96306,'2333601',.FLOOR.),\n",
       " #96360=IfcSlab('1ZFBulbQ91DukoiuQig9q_',#18,'Floor:STR_RC SLAB_500 THK_TEN:2333609',$,'Floor:STR_RC SLAB_500 THK_TEN',#96347,#96359,'2333609',.FLOOR.))"
      ]
     },
     "execution_count": 22,
     "metadata": {},
     "output_type": "execute_result"
    }
   ],
   "source": [
    "foundation.ContainsElements[0].RelatedElements"
   ]
  },
  {
   "cell_type": "markdown",
   "metadata": {},
   "source": [
    "## IFC Class Inheritance Hierarchy\n",
    "\n",
    "Read more on this [link](https://standards.buildingsmart.org/IFC/DEV/IFC4_2/FINAL/HTML/schema/ifckernel/lexical/ifcroot.htm)"
   ]
  },
  {
   "cell_type": "code",
   "execution_count": 25,
   "metadata": {},
   "outputs": [
    {
     "data": {
      "text/plain": [
       "117191"
      ]
     },
     "execution_count": 25,
     "metadata": {},
     "output_type": "execute_result"
    }
   ],
   "source": [
    "rooted_entities = file.by_type('IfcRoot')\n",
    "len(rooted_entities)"
   ]
  },
  {
   "cell_type": "markdown",
   "metadata": {},
   "source": [
    "To list down all the types of building elements present in the project as shown in the image:\n",
    "\n",
    "![](https://standards.buildingsmart.org/IFC/DEV/IFC4_2/FINAL/HTML/diagrams/ifcbuildingelement.png)"
   ]
  },
  {
   "cell_type": "code",
   "execution_count": 29,
   "metadata": {},
   "outputs": [
    {
     "data": {
      "text/plain": [
       "{'IfcBeam', 'IfcColumn', 'IfcMember', 'IfcSlab', 'IfcWall'}"
      ]
     },
     "execution_count": 29,
     "metadata": {},
     "output_type": "execute_result"
    }
   ],
   "source": [
    "ifc_building_element_entities = set()\n",
    "for entity in rooted_entities:\n",
    "    if entity.is_a('IfcBuildingElement'):\n",
    "        ifc_building_element_entities.add(entity.is_a())\n",
    "\n",
    "ifc_building_element_entities"
   ]
  },
  {
   "cell_type": "markdown",
   "metadata": {},
   "source": [
    "### Get elements by GlobalID"
   ]
  },
  {
   "cell_type": "code",
   "execution_count": 30,
   "metadata": {},
   "outputs": [
    {
     "data": {
      "text/plain": [
       "#8425=IfcWall('3N0CALssHDDgZsPgoXJQSF',#18,'Basic Wall:STR_RC WALL_1650 THK_TEN:1462215',$,'Basic Wall:STR_RC WALL_1650 THK_TEN',#8404,#8424,'1462215',.NOTDEFINED.)"
      ]
     },
     "execution_count": 30,
     "metadata": {},
     "output_type": "execute_result"
    }
   ],
   "source": [
    "my_wall = file.by_id(\"3N0CALssHDDgZsPgoXJQSF\")\n",
    "my_wall"
   ]
  },
  {
   "cell_type": "code",
   "execution_count": 31,
   "metadata": {},
   "outputs": [
    {
     "data": {
      "text/plain": [
       "'Basic Wall:STR_RC WALL_1650 THK_TEN:1462215'"
      ]
     },
     "execution_count": 31,
     "metadata": {},
     "output_type": "execute_result"
    }
   ],
   "source": [
    "my_wall.Name"
   ]
  },
  {
   "cell_type": "code",
   "execution_count": 32,
   "metadata": {},
   "outputs": [
    {
     "data": {
      "text/plain": [
       "'1462215'"
      ]
     },
     "execution_count": 32,
     "metadata": {},
     "output_type": "execute_result"
    }
   ],
   "source": [
    "my_wall.Tag"
   ]
  },
  {
   "cell_type": "code",
   "execution_count": 33,
   "metadata": {},
   "outputs": [
    {
     "data": {
      "text/plain": [
       "'Basic Wall:STR_RC WALL_1650 THK_TEN'"
      ]
     },
     "execution_count": 33,
     "metadata": {},
     "output_type": "execute_result"
    }
   ],
   "source": [
    "my_wall.ObjectType"
   ]
  },
  {
   "cell_type": "markdown",
   "metadata": {},
   "source": [
    "Select similar/related objects, objects of similar construction type:"
   ]
  },
  {
   "cell_type": "code",
   "execution_count": 39,
   "metadata": {},
   "outputs": [
    {
     "data": {
      "text/plain": [
       "#331324=IfcRelDefinesByType('0taH4a_VWliTcBGSL7ikI1',#18,$,$,(#5236,#5307,#5451,#5499,#5643,#5691,#5835,#5883,#6027,#6075,#6219,#6267,#6411,#6459,#6603,#6651,#6795,#6843,#6987,#7035,#7179,#7227,#7371,#7419,#8204,#8252,#8425,#8480,#8619,#8667,#8882,#8938,#9108,#9164,#9358,#9413,#19267,#19293,#19319,#19381,#19407,#19433),#5247)"
      ]
     },
     "execution_count": 39,
     "metadata": {},
     "output_type": "execute_result"
    }
   ],
   "source": [
    "my_wall.IsTypedBy[0]"
   ]
  },
  {
   "cell_type": "code",
   "execution_count": 40,
   "metadata": {},
   "outputs": [
    {
     "data": {
      "text/plain": [
       "(#5236=IfcWall('3N0CALssHDDgZsPgoXJQUp',#18,'Basic Wall:STR_RC WALL_1650 THK_TEN:1462139',$,'Basic Wall:STR_RC WALL_1650 THK_TEN',#5223,#5235,'1462139',.NOTDEFINED.),\n",
       " #5307=IfcWall('3N0CALssHDDgZsPgoXJQUq',#18,'Basic Wall:STR_RC WALL_1650 THK_TEN:1462140',$,'Basic Wall:STR_RC WALL_1650 THK_TEN',#5294,#5306,'1462140',.NOTDEFINED.),\n",
       " #5451=IfcWall('3N0CALssHDDgZsPgoXJQUt',#18,'Basic Wall:STR_RC WALL_1650 THK_TEN:1462143',$,'Basic Wall:STR_RC WALL_1650 THK_TEN',#5438,#5450,'1462143',.NOTDEFINED.),\n",
       " #5499=IfcWall('3N0CALssHDDgZsPgoXJQT8',#18,'Basic Wall:STR_RC WALL_1650 THK_TEN:1462144',$,'Basic Wall:STR_RC WALL_1650 THK_TEN',#5486,#5498,'1462144',.NOTDEFINED.),\n",
       " #5643=IfcWall('3N0CALssHDDgZsPgoXJQTB',#18,'Basic Wall:STR_RC WALL_1650 THK_TEN:1462147',$,'Basic Wall:STR_RC WALL_1650 THK_TEN',#5630,#5642,'1462147',.NOTDEFINED.),\n",
       " #5691=IfcWall('3N0CALssHDDgZsPgoXJQTC',#18,'Basic Wall:STR_RC WALL_1650 THK_TEN:1462148',$,'Basic Wall:STR_RC WALL_1650 THK_TEN',#5678,#5690,'1462148',.NOTDEFINED.),\n",
       " #5835=IfcWall('3N0CALssHDDgZsPgoXJQTF',#18,'Basic Wall:STR_RC WALL_1650 THK_TEN:1462151',$,'Basic Wall:STR_RC WALL_1650 THK_TEN',#5822,#5834,'1462151',.NOTDEFINED.),\n",
       " #5883=IfcWall('3N0CALssHDDgZsPgoXJQT0',#18,'Basic Wall:STR_RC WALL_1650 THK_TEN:1462152',$,'Basic Wall:STR_RC WALL_1650 THK_TEN',#5870,#5882,'1462152',.NOTDEFINED.),\n",
       " #6027=IfcWall('3N0CALssHDDgZsPgoXJQT3',#18,'Basic Wall:STR_RC WALL_1650 THK_TEN:1462155',$,'Basic Wall:STR_RC WALL_1650 THK_TEN',#6014,#6026,'1462155',.NOTDEFINED.),\n",
       " #6075=IfcWall('3N0CALssHDDgZsPgoXJQT4',#18,'Basic Wall:STR_RC WALL_1650 THK_TEN:1462156',$,'Basic Wall:STR_RC WALL_1650 THK_TEN',#6062,#6074,'1462156',.NOTDEFINED.),\n",
       " #6219=IfcWall('3N0CALssHDDgZsPgoXJQT7',#18,'Basic Wall:STR_RC WALL_1650 THK_TEN:1462159',$,'Basic Wall:STR_RC WALL_1650 THK_TEN',#6206,#6218,'1462159',.NOTDEFINED.),\n",
       " #6267=IfcWall('3N0CALssHDDgZsPgoXJQTO',#18,'Basic Wall:STR_RC WALL_1650 THK_TEN:1462160',$,'Basic Wall:STR_RC WALL_1650 THK_TEN',#6254,#6266,'1462160',.NOTDEFINED.),\n",
       " #6411=IfcWall('3N0CALssHDDgZsPgoXJQTR',#18,'Basic Wall:STR_RC WALL_1650 THK_TEN:1462163',$,'Basic Wall:STR_RC WALL_1650 THK_TEN',#6398,#6410,'1462163',.NOTDEFINED.),\n",
       " #6459=IfcWall('3N0CALssHDDgZsPgoXJQTS',#18,'Basic Wall:STR_RC WALL_1650 THK_TEN:1462164',$,'Basic Wall:STR_RC WALL_1650 THK_TEN',#6446,#6458,'1462164',.NOTDEFINED.),\n",
       " #6603=IfcWall('3N0CALssHDDgZsPgoXJQTV',#18,'Basic Wall:STR_RC WALL_1650 THK_TEN:1462167',$,'Basic Wall:STR_RC WALL_1650 THK_TEN',#6590,#6602,'1462167',.NOTDEFINED.),\n",
       " #6651=IfcWall('3N0CALssHDDgZsPgoXJQTG',#18,'Basic Wall:STR_RC WALL_1650 THK_TEN:1462168',$,'Basic Wall:STR_RC WALL_1650 THK_TEN',#6638,#6650,'1462168',.NOTDEFINED.),\n",
       " #6795=IfcWall('3N0CALssHDDgZsPgoXJQTJ',#18,'Basic Wall:STR_RC WALL_1650 THK_TEN:1462171',$,'Basic Wall:STR_RC WALL_1650 THK_TEN',#6782,#6794,'1462171',.NOTDEFINED.),\n",
       " #6843=IfcWall('3N0CALssHDDgZsPgoXJQTK',#18,'Basic Wall:STR_RC WALL_1650 THK_TEN:1462172',$,'Basic Wall:STR_RC WALL_1650 THK_TEN',#6830,#6842,'1462172',.NOTDEFINED.),\n",
       " #6987=IfcWall('3N0CALssHDDgZsPgoXJQTN',#18,'Basic Wall:STR_RC WALL_1650 THK_TEN:1462175',$,'Basic Wall:STR_RC WALL_1650 THK_TEN',#6974,#6986,'1462175',.NOTDEFINED.),\n",
       " #7035=IfcWall('3N0CALssHDDgZsPgoXJQTe',#18,'Basic Wall:STR_RC WALL_1650 THK_TEN:1462176',$,'Basic Wall:STR_RC WALL_1650 THK_TEN',#7022,#7034,'1462176',.NOTDEFINED.),\n",
       " #7179=IfcWall('3N0CALssHDDgZsPgoXJQTh',#18,'Basic Wall:STR_RC WALL_1650 THK_TEN:1462179',$,'Basic Wall:STR_RC WALL_1650 THK_TEN',#7166,#7178,'1462179',.NOTDEFINED.),\n",
       " #7227=IfcWall('3N0CALssHDDgZsPgoXJQTi',#18,'Basic Wall:STR_RC WALL_1650 THK_TEN:1462180',$,'Basic Wall:STR_RC WALL_1650 THK_TEN',#7214,#7226,'1462180',.NOTDEFINED.),\n",
       " #7371=IfcWall('3N0CALssHDDgZsPgoXJQTa',#18,'Basic Wall:STR_RC WALL_1650 THK_TEN:1462188',$,'Basic Wall:STR_RC WALL_1650 THK_TEN',#7358,#7370,'1462188',.NOTDEFINED.),\n",
       " #7419=IfcWall('3N0CALssHDDgZsPgoXJQTb',#18,'Basic Wall:STR_RC WALL_1650 THK_TEN:1462189',$,'Basic Wall:STR_RC WALL_1650 THK_TEN',#7406,#7418,'1462189',.NOTDEFINED.),\n",
       " #8204=IfcWall('3N0CALssHDDgZsPgoXJQS9',#18,'Basic Wall:STR_RC WALL_1650 THK_TEN:1462209',$,'Basic Wall:STR_RC WALL_1650 THK_TEN',#8191,#8203,'1462209',.NOTDEFINED.),\n",
       " #8252=IfcWall('3N0CALssHDDgZsPgoXJQSA',#18,'Basic Wall:STR_RC WALL_1650 THK_TEN:1462210',$,'Basic Wall:STR_RC WALL_1650 THK_TEN',#8239,#8251,'1462210',.NOTDEFINED.),\n",
       " #8425=IfcWall('3N0CALssHDDgZsPgoXJQSF',#18,'Basic Wall:STR_RC WALL_1650 THK_TEN:1462215',$,'Basic Wall:STR_RC WALL_1650 THK_TEN',#8404,#8424,'1462215',.NOTDEFINED.),\n",
       " #8480=IfcWall('3N0CALssHDDgZsPgoXJQS0',#18,'Basic Wall:STR_RC WALL_1650 THK_TEN:1462216',$,'Basic Wall:STR_RC WALL_1650 THK_TEN',#8455,#8479,'1462216',.NOTDEFINED.),\n",
       " #8619=IfcWall('3N0CALssHDDgZsPgoXJQS3',#18,'Basic Wall:STR_RC WALL_1650 THK_TEN:1462219',$,'Basic Wall:STR_RC WALL_1650 THK_TEN',#8606,#8618,'1462219',.NOTDEFINED.),\n",
       " #8667=IfcWall('3N0CALssHDDgZsPgoXJQS4',#18,'Basic Wall:STR_RC WALL_1650 THK_TEN:1462220',$,'Basic Wall:STR_RC WALL_1650 THK_TEN',#8654,#8666,'1462220',.NOTDEFINED.),\n",
       " #8882=IfcWall('3N0CALssHDDgZsPgoXJQSP',#18,'Basic Wall:STR_RC WALL_1650 THK_TEN:1462225',$,'Basic Wall:STR_RC WALL_1650 THK_TEN',#8869,#8881,'1462225',.NOTDEFINED.),\n",
       " #8938=IfcWall('3N0CALssHDDgZsPgoXJQSQ',#18,'Basic Wall:STR_RC WALL_1650 THK_TEN:1462226',$,'Basic Wall:STR_RC WALL_1650 THK_TEN',#8917,#8937,'1462226',.NOTDEFINED.),\n",
       " #9108=IfcWall('3N0CALssHDDgZsPgoXJQSU',#18,'Basic Wall:STR_RC WALL_1650 THK_TEN:1462230',$,'Basic Wall:STR_RC WALL_1650 THK_TEN',#9095,#9107,'1462230',.NOTDEFINED.),\n",
       " #9164=IfcWall('3N0CALssHDDgZsPgoXJQSV',#18,'Basic Wall:STR_RC WALL_1650 THK_TEN:1462231',$,'Basic Wall:STR_RC WALL_1650 THK_TEN',#9143,#9163,'1462231',.NOTDEFINED.),\n",
       " #9358=IfcWall('3N0CALssHDDgZsPgoXJQSK',#18,'Basic Wall:STR_RC WALL_1650 THK_TEN:1462236',$,'Basic Wall:STR_RC WALL_1650 THK_TEN',#9337,#9357,'1462236',.NOTDEFINED.),\n",
       " #9413=IfcWall('3N0CALssHDDgZsPgoXJQSL',#18,'Basic Wall:STR_RC WALL_1650 THK_TEN:1462237',$,'Basic Wall:STR_RC WALL_1650 THK_TEN',#9388,#9412,'1462237',.NOTDEFINED.),\n",
       " #19267=IfcWall('3N0CALssHDDgZsRgsXJRX_',#18,'Basic Wall:STR_RC WALL_1650 THK_TEN:1462454',$,'Basic Wall:STR_RC WALL_1650 THK_TEN',#19254,#19266,'1462454',.NOTDEFINED.),\n",
       " #19293=IfcWall('3N0CALssHDDgZsRgwXJRX_',#18,'Basic Wall:STR_RC WALL_1650 THK_TEN:1462454',$,'Basic Wall:STR_RC WALL_1650 THK_TEN',#19280,#19292,'1462454',.NOTDEFINED.),\n",
       " #19319=IfcWall('3N0CALssHDDgZsRg_XJRX_',#18,'Basic Wall:STR_RC WALL_1650 THK_TEN:1462454',$,'Basic Wall:STR_RC WALL_1650 THK_TEN',#19306,#19318,'1462454',.NOTDEFINED.),\n",
       " #19381=IfcWall('3N0CALssHDDgZsRgsXJRX$',#18,'Basic Wall:STR_RC WALL_1650 THK_TEN:1462455',$,'Basic Wall:STR_RC WALL_1650 THK_TEN',#19368,#19380,'1462455',.NOTDEFINED.),\n",
       " #19407=IfcWall('3N0CALssHDDgZsRgwXJRX$',#18,'Basic Wall:STR_RC WALL_1650 THK_TEN:1462455',$,'Basic Wall:STR_RC WALL_1650 THK_TEN',#19394,#19406,'1462455',.NOTDEFINED.),\n",
       " #19433=IfcWall('3N0CALssHDDgZsRg_XJRX$',#18,'Basic Wall:STR_RC WALL_1650 THK_TEN:1462455',$,'Basic Wall:STR_RC WALL_1650 THK_TEN',#19420,#19432,'1462455',.NOTDEFINED.))"
      ]
     },
     "execution_count": 40,
     "metadata": {},
     "output_type": "execute_result"
    }
   ],
   "source": [
    "my_wall.IsTypedBy[0].RelatedObjects"
   ]
  },
  {
   "cell_type": "markdown",
   "metadata": {},
   "source": [
    "### Let's check with a IFCslab element"
   ]
  },
  {
   "cell_type": "code",
   "execution_count": 42,
   "metadata": {},
   "outputs": [
    {
     "data": {
      "text/plain": [
       "#24270=IfcSlab('3dX6EKJr5ATwhTCqt0jqao',#18,'Floor:STR_RC SLAB_250 THK_TEN:1484317',$,'Floor:STR_RC SLAB_250 THK_TEN',#24257,#24269,'1484317',.FLOOR.)"
      ]
     },
     "execution_count": 42,
     "metadata": {},
     "output_type": "execute_result"
    }
   ],
   "source": [
    "my_slab = file.by_type(\"IfcSlab\")[0]\n",
    "my_slab"
   ]
  },
  {
   "cell_type": "code",
   "execution_count": 43,
   "metadata": {},
   "outputs": [
    {
     "data": {
      "text/plain": [
       "True"
      ]
     },
     "execution_count": 43,
     "metadata": {},
     "output_type": "execute_result"
    }
   ],
   "source": [
    "my_slab.is_a('IfcRoot')"
   ]
  },
  {
   "cell_type": "code",
   "execution_count": 44,
   "metadata": {},
   "outputs": [
    {
     "data": {
      "text/plain": [
       "True"
      ]
     },
     "execution_count": 44,
     "metadata": {},
     "output_type": "execute_result"
    }
   ],
   "source": [
    "my_slab.is_a('IfcProduct')"
   ]
  },
  {
   "cell_type": "code",
   "execution_count": 45,
   "metadata": {},
   "outputs": [
    {
     "data": {
      "text/plain": [
       "True"
      ]
     },
     "execution_count": 45,
     "metadata": {},
     "output_type": "execute_result"
    }
   ],
   "source": [
    "my_slab.is_a('IfcBuildingElement')"
   ]
  },
  {
   "cell_type": "markdown",
   "metadata": {},
   "source": [
    "So the IFCWall, IFCSlab etc and all the other IFCBuildingElement inherits their parent class"
   ]
  },
  {
   "cell_type": "markdown",
   "metadata": {},
   "source": [
    "## Property Sets"
   ]
  }
 ],
 "metadata": {
  "kernelspec": {
   "display_name": "ifc-env",
   "language": "python",
   "name": "python3"
  },
  "language_info": {
   "codemirror_mode": {
    "name": "ipython",
    "version": 3
   },
   "file_extension": ".py",
   "mimetype": "text/x-python",
   "name": "python",
   "nbconvert_exporter": "python",
   "pygments_lexer": "ipython3",
   "version": "3.11.5"
  },
  "orig_nbformat": 4
 },
 "nbformat": 4,
 "nbformat_minor": 2
}
