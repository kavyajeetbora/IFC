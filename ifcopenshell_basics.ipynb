{
 "cells": [
  {
   "cell_type": "code",
   "execution_count": 1,
   "metadata": {},
   "outputs": [],
   "source": [
    "import ifcopenshell\n",
    "import ifcopenshell.util.element as Element\n",
    "from tqdm import tqdm\n",
    "import pandas as pd\n",
    "import time"
   ]
  },
  {
   "cell_type": "markdown",
   "metadata": {},
   "source": [
    "## IFC Spatial Hierarchy\n",
    "\n",
    "The Industry Foundation Classes (IFC) hierarchy is a fundamental aspect of the IFC data model, which is used in Building Information Modeling (BIM) to represent and exchange information about building and construction projects. The IFC hierarchy organizes building elements and their associated data in a structured and standardized manner. It is crucial for maintaining consistency and interoperability between different BIM software applications and for effectively managing building project information. The IFC hierarchy consists of several levels, with each level representing a different aspect of the building project:\n",
    "\n",
    "1. Project: At the top of the hierarchy is the \"Project.\" The project represents the entire building or construction project and serves as the container for all other elements and information related to the project. It includes high-level information such as project name, location, and participants.\n",
    "\n",
    "2. Site: Within the project, there can be one or more \"Site\" elements. A site represents the physical location of the building project, including its boundaries, terrain, and contextual information. It may contain information about land use, topography, and other site-specific details.\n",
    "\n",
    "3. Building: A \"Building\" is a major physical structure within the project. It represents the main building or structure and contains information about its architectural design, structural elements, and other building-specific attributes. A project can have multiple buildings if it consists of several distinct structures.\n",
    "\n",
    "4. Building Storey (Story): Within a building, you have \"Building Storey\" elements, often referred to as \"Stories\" in some regions. These represent the different levels or floors of the building. Each story contains information about the spaces, walls, ceilings, and other elements that make up that specific level.\n",
    "\n",
    "5. Space: A \"Space\" represents a defined area within a building storey. Spaces can be rooms, corridors, open areas, or any other distinguishable spaces within a building. Information about spatial characteristics, usage, and attributes are stored within space elements.\n",
    "\n",
    "6. Building Element: Building elements represent the physical components of the building, such as walls, floors, roofs, doors, windows, and structural components like beams and columns. Each building element contains detailed information about its geometry, material properties, and other relevant attributes.\n",
    "\n",
    "7. Component: Some building elements can be further broken down into components. For example, a door (building element) may have components like handles, locks, and hinges. Components allow for more granular representation and management of elements within the building.\n",
    "\n",
    "8. Materials and Assemblies: Materials and assemblies are used to define the composition of building elements. They specify the types of materials used in construction and how they are assembled. This information is essential for accurately representing the physical properties and behavior of building elements.\n",
    "\n",
    "9. Types and Classes: Within the hierarchy, types and classes are used to categorize and standardize building elements. Types define common characteristics and behaviors shared by multiple instances of an element (e.g., a standard door type), while classes provide a broader categorization (e.g., doors, windows, walls).\n",
    "\n",
    "10. Attributes and Properties: At each level of the hierarchy, elements and objects have associated attributes and properties that describe their characteristics and behavior. These attributes can include information like dimensions, materials, cost, and performance data.\n",
    "\n",
    "The IFC hierarchy provides a structured framework for organizing and representing all the information needed for the design, construction, and management of a building project. It allows stakeholders to access and exchange data consistently, regardless of the software tools they use, promoting interoperability and collaboration throughout the project lifecycle\n",
    "\n",
    "![](https://wiki.osarch.org/images/e/e1/Ifc-spatial-tree.png)"
   ]
  },
  {
   "cell_type": "markdown",
   "metadata": {},
   "source": [
    "## Open an IFC file with ifcopenshell\n",
    "\n",
    "We will try now to go down the spatial tree:"
   ]
  },
  {
   "cell_type": "code",
   "execution_count": 2,
   "metadata": {},
   "outputs": [],
   "source": [
    "file = ifcopenshell.open(r\"IFC Files\\MAD_SCIENTIST_21.ifc\")"
   ]
  },
  {
   "cell_type": "markdown",
   "metadata": {},
   "source": [
    "## Exploring the spatial Hierarchy"
   ]
  },
  {
   "cell_type": "code",
   "execution_count": 3,
   "metadata": {},
   "outputs": [
    {
     "name": "stdout",
     "output_type": "stream",
     "text": [
      "#126=IfcProject('3g3Iz8TDj5xuqMTCDsHJTy',$,'Project  Number',$,$,'Project Name','Project  Status',(#114,#123),#109)\n"
     ]
    }
   ],
   "source": [
    "project = file.by_type(\"IfcProject\")[0]\n",
    "print(project)"
   ]
  },
  {
   "cell_type": "code",
   "execution_count": 4,
   "metadata": {},
   "outputs": [
    {
     "data": {
      "text/plain": [
       "#469=IfcSite('3g3Iz8TDj5xuqMTCDsHJT_',$,'Surface:300641',$,$,#468,#461,$,.ELEMENT.,(42,21,31,181945),(-71,-3,-24,-263305),0.,$,$)"
      ]
     },
     "execution_count": 4,
     "metadata": {},
     "output_type": "execute_result"
    }
   ],
   "source": [
    "site = project.IsDecomposedBy[0].RelatedObjects[0]\n",
    "site"
   ]
  },
  {
   "cell_type": "code",
   "execution_count": 5,
   "metadata": {},
   "outputs": [
    {
     "data": {
      "text/plain": [
       "#141=IfcBuilding('3g3Iz8TDj5xuqMTCDsHJTz',$,'',$,$,#33,$,'',.ELEMENT.,$,$,#137)"
      ]
     },
     "execution_count": 5,
     "metadata": {},
     "output_type": "execute_result"
    }
   ],
   "source": [
    "building = site.IsDecomposedBy[0].RelatedObjects[0]\n",
    "building"
   ]
  },
  {
   "cell_type": "code",
   "execution_count": 6,
   "metadata": {},
   "outputs": [
    {
     "name": "stdout",
     "output_type": "stream",
     "text": [
      "There are around 6 storeys in the Bulding. Some of them are:\n"
     ]
    },
    {
     "data": {
      "text/plain": [
       "(#156=IfcBuildingStorey('3g3Iz8TDj5xuqMTCE9kO_A',$,'Sous-Sol',$,'Level:8mm Head',#154,$,'Sous-Sol',.ELEMENT.,-3000.),\n",
       " #162=IfcBuildingStorey('3g3Iz8TDj5xuqMTCE9klk3',$,'Ground Floor',$,'Level:8mm Head',#161,$,'Ground Floor',.ELEMENT.,600.),\n",
       " #168=IfcBuildingStorey('3g3Iz8TDj5xuqMTCE9klQb',$,'Level 1 -  Lower',$,'Level:8mm Head',#167,$,'Level 1 -  Lower',.ELEMENT.,3800.00000000035),\n",
       " #174=IfcBuildingStorey('3g3Iz8TDj5xuqMTCE9kOxh',$,'Level 1 - Upper',$,'Level:8mm Head',#173,$,'Level 1 - Upper',.ELEMENT.,4200.00000000035),\n",
       " #180=IfcBuildingStorey('3g3Iz8TDj5xuqMTCE9kOu7',$,'Roof Lower','I have a bsolutely no description for this level','Level:8mm Head',#179,$,'Roof Lower',.ELEMENT.,7700.00000000035))"
      ]
     },
     "execution_count": 6,
     "metadata": {},
     "output_type": "execute_result"
    }
   ],
   "source": [
    "building_storeys = building.IsDecomposedBy[0].RelatedObjects\n",
    "print(f\"There are around {len(building_storeys)} storeys in the Bulding. Some of them are:\")\n",
    "building_storeys[0:5]"
   ]
  },
  {
   "cell_type": "markdown",
   "metadata": {},
   "source": [
    "Now lets check the elements in one of the storeys:"
   ]
  },
  {
   "cell_type": "code",
   "execution_count": 7,
   "metadata": {},
   "outputs": [
    {
     "data": {
      "text/plain": [
       "{'id': 156,\n",
       " 'type': 'IfcBuildingStorey',\n",
       " 'GlobalId': '3g3Iz8TDj5xuqMTCE9kO_A',\n",
       " 'OwnerHistory': None,\n",
       " 'Name': 'Sous-Sol',\n",
       " 'Description': None,\n",
       " 'ObjectType': 'Level:8mm Head',\n",
       " 'ObjectPlacement': #154=IfcLocalPlacement(#33,#153),\n",
       " 'Representation': None,\n",
       " 'LongName': 'Sous-Sol',\n",
       " 'CompositionType': 'ELEMENT',\n",
       " 'Elevation': -3000.0}"
      ]
     },
     "execution_count": 7,
     "metadata": {},
     "output_type": "execute_result"
    }
   ],
   "source": [
    "foundation = building_storeys[0]\n",
    "foundation.get_info()"
   ]
  },
  {
   "cell_type": "markdown",
   "metadata": {},
   "source": [
    "Now printout all the elements contained in the first storey of the building:"
   ]
  },
  {
   "cell_type": "code",
   "execution_count": 8,
   "metadata": {},
   "outputs": [
    {
     "data": {
      "text/plain": [
       "(#561=IfcWall('0WVj9KjC13RO1aj0KqPpHQ',$,'BLK01.063',$,'Basic Wall:250XTERNAL',#502,#557,'290574',.SOLIDWALL.),\n",
       " #18518=IfcColumn('0Jjz$4kg55QP67ud7_ue_w',$,'Concrete Square:250 x 250mm:312861',$,'Concrete Square:250 x 250mm',#18517,#18511,'312861',.COLUMN.),\n",
       " #18594=IfcColumn('0Jjz$4kg55QP67ud7_ue_6',$,'Concrete Square:250 x 250mm:312865',$,'Concrete Square:250 x 250mm',#18593,#18587,'312865',.COLUMN.),\n",
       " #18670=IfcColumn('0Jjz$4kg55QP67ud7_ue_4',$,'Concrete Square:250 x 250mm:312867',$,'Concrete Square:250 x 250mm',#18669,#18663,'312867',.COLUMN.),\n",
       " #18744=IfcColumn('0Jjz$4kg55QP67ud7_ue_2',$,'Concrete Square:250 x 250mm:312869',$,'Concrete Square:250 x 250mm',#18743,#18737,'312869',.COLUMN.),\n",
       " #18818=IfcColumn('0Jjz$4kg55QP67ud7_ue_0',$,'Concrete Square:250 x 250mm:312871',$,'Concrete Square:250 x 250mm',#18817,#18811,'312871',.COLUMN.),\n",
       " #18892=IfcColumn('0Jjz$4kg55QP67ud7_ue_E',$,'Concrete Square:250 x 250mm:312873',$,'Concrete Square:250 x 250mm',#18891,#18885,'312873',.COLUMN.),\n",
       " #18966=IfcColumn('0Jjz$4kg55QP67ud7_ue_A',$,'Concrete Square:250 x 250mm:312877',$,'Concrete Square:250 x 250mm',#18965,#18959,'312877',.COLUMN.),\n",
       " #19040=IfcColumn('0Jjz$4kg55QP67ud7_ue_8',$,'Concrete Square:250 x 250mm:312879',$,'Concrete Square:250 x 250mm',#19039,#19033,'312879',.COLUMN.),\n",
       " #19114=IfcColumn('0Jjz$4kg55QP67ud7_ue_M',$,'Concrete Square:250 x 250mm:312881',$,'Concrete Square:250 x 250mm',#19113,#19107,'312881',.COLUMN.),\n",
       " #19188=IfcColumn('0Jjz$4kg55QP67ud7_ue_K',$,'Concrete Square:250 x 250mm:312883',$,'Concrete Square:250 x 250mm',#19187,#19181,'312883',.COLUMN.),\n",
       " #19262=IfcColumn('0Jjz$4kg55QP67ud7_ue_I',$,'Concrete Square:250 x 250mm:312885',$,'Concrete Square:250 x 250mm',#19261,#19255,'312885',.COLUMN.),\n",
       " #19336=IfcColumn('0Jjz$4kg55QP67ud7_ue_G',$,'Concrete Square:250 x 250mm:312887',$,'Concrete Square:250 x 250mm',#19335,#19329,'312887',.COLUMN.),\n",
       " #19410=IfcColumn('0Jjz$4kg55QP67ud7_ue_U',$,'Concrete Square:250 x 250mm:312889',$,'Concrete Square:250 x 250mm',#19409,#19403,'312889',.COLUMN.),\n",
       " #19486=IfcColumn('0Jjz$4kg55QP67ud7_ue_S',$,'Concrete Square:250 x 250mm:312891',$,'Concrete Square:250 x 250mm',#19485,#19479,'312891',.COLUMN.),\n",
       " #19562=IfcColumn('0Jjz$4kg55QP67ud7_ue_Q',$,'Concrete Square:250 x 250mm:312893',$,'Concrete Square:250 x 250mm',#19561,#19555,'312893',.COLUMN.),\n",
       " #25278=IfcColumn('1K9fMEc5bCUxo4NlaWY8z0',$,'Concrete Square:250 x 250mm:319566',$,'Concrete Square:250 x 250mm',#25277,#25271,'319566',.COLUMN.),\n",
       " #26990=IfcSlab('09aL_9QLL0EvSFWtUdSE4H',$,'Pad:Pad 1:322077',$,'Pad:Pad 1',#26951,#26987,'322077',.FLOOR.),\n",
       " #37354=IfcSlab('0L8_o2LS1B4wDbb5Ov4eeu',$,'Pad:Pad 1:329836',$,'Pad:Pad 1',#37340,#37351,'329836',.FLOOR.),\n",
       " #37444=IfcWall('0L8_o2LS1B4wDbb5Ov4ehW',$,'BLK01.001',$,'Basic Wall:250XTERNAL',#37401,#37440,'329908',.SOLIDWALL.),\n",
       " #37525=IfcWall('0L8_o2LS1B4wDbb5Ov4ehX',$,'BLK01.002',$,'Basic Wall:250XTERNAL',#37484,#37521,'329909',.SOLIDWALL.),\n",
       " #37613=IfcWall('0L8_o2LS1B4wDbb5Ov4ehY',$,'BLK01.003',$,'Basic Wall:250XTERNAL',#37565,#37609,'329910',.SOLIDWALL.),\n",
       " #37705=IfcWall('0L8_o2LS1B4wDbb5Ov4ehZ',$,'BLK01.004',$,'Basic Wall:250XTERNAL',#37651,#37701,'329911',.SOLIDWALL.),\n",
       " #37788=IfcWall('0L8_o2LS1B4wDbb5Ov4ehi',$,'BLK01.005',$,'Basic Wall:250XTERNAL',#37743,#37784,'329912',.SOLIDWALL.),\n",
       " #37848=IfcWall('0L8_o2LS1B4wDbb5Ov4ehj',$,'BLK01.006',$,'Basic Wall:250XTERNAL',#37826,#37844,'329913',.SOLIDWALL.),\n",
       " #37908=IfcWall('0L8_o2LS1B4wDbb5Ov4ehk',$,'BLK01.007',$,'Basic Wall:250XTERNAL',#37886,#37904,'329914',.SOLIDWALL.),\n",
       " #37979=IfcWall('0L8_o2LS1B4wDbb5Ov4egg',$,'BLK01.008',$,'Basic Wall:250XTERNAL',#37948,#37975,'329982',.SOLIDWALL.),\n",
       " #38063=IfcWall('0L8_o2LS1B4wDbb5Ov4egh',$,'BLK01.009',$,'Basic Wall:250XTERNAL',#38017,#38059,'329983',.SOLIDWALL.),\n",
       " #38161=IfcWall('0L8_o2LS1B4wDbb5Ov4ejK',$,'BLK01.010',$,'Basic Wall:250XTERNAL',#38101,#38157,'329984',.SOLIDWALL.),\n",
       " #41272=IfcWall('00P6mB8CH7lxk1xqPEfuUQ',$,'Basic Wall:Generic - 200mm - Filled:331729',$,'Basic Wall:Generic - 200mm - Filled',#41235,#41268,'331729',.NOTDEFINED.),\n",
       " #41464=IfcWindow('00P6mB8CH7lxk1xqPEfuUk',$,'M_Fixed:3000:331749',$,'M_Fixed:3000',#78297,#41457,'331749',1200.,3000.,.WINDOW.,.NOTDEFINED.,$),\n",
       " #47757=IfcDoor('00P6mB8CH7lxk1xqPEfvWo',$,'Door-Exterior-Single-Two_Lite:Door-Exterior-Single-Two_Lite:331897',$,'Door-Exterior-Single-Two_Lite:Door-Exterior-Single-Two_Lite',#78261,#47749,'331897',2201.6,1301.6,.DOOR.,.SINGLE_SWING_RIGHT.,$),\n",
       " #47833=IfcWall('00P6mB8CH7lxk1xqPEfwvs',$,'Basic Wall:Generic - 200mm - Filled:337469',$,'Basic Wall:Generic - 200mm - Filled',#47802,#47829,'337469',.NOTDEFINED.),\n",
       " #47904=IfcWall('00P6mB8CH7lxk1xqPEfwxD',$,'Basic Wall:Generic - 200mm - Filled:337542',$,'Basic Wall:Generic - 200mm - Filled',#47873,#47900,'337542',.NOTDEFINED.),\n",
       " #48035=IfcWall('00P6mB8CH7lxk1xqPEfwwG',$,'Basic Wall:Generic - 200mm - Filled:337627',$,'Basic Wall:Generic - 200mm - Filled',#47994,#48031,'337627',.NOTDEFINED.),\n",
       " #48112=IfcWall('00P6mB8CH7lxk1xqPEfwyH',$,'Basic Wall:Generic - 200mm - Filled:337754',$,'Basic Wall:Generic - 200mm - Filled',#48073,#48108,'337754',.NOTDEFINED.),\n",
       " #48174=IfcWall('00P6mB8CH7lxk1xqPEfw_x',$,'BLK01.011',$,'Basic Wall:250XTERNAL',#48152,#48170,'337904',.SOLIDWALL.),\n",
       " #48341=IfcDoor('00P6mB8CH7lxk1xqPEfw1x',$,'M_Single-Flush:0762 x 2134mm:337968',$,'M_Single-Flush:0762 x 2134mm',#78335,#48331,'337968',2134.,762.,.DOOR.,.NOTDEFINED.,$),\n",
       " #48424=IfcWall('00P6mB8CH7lxk1xqPEfw3t',$,'Basic Wall:Generic - 200mm - Filled:338108',$,'Basic Wall:Generic - 200mm - Filled',#48381,#48420,'338108',.NOTDEFINED.),\n",
       " #48505=IfcWall('00P6mB8CH7lxk1xqPEfw5B',$,'Basic Wall:Generic - 200mm - Filled:338176',$,'Basic Wall:Generic - 200mm - Filled',#48464,#48501,'338176',.NOTDEFINED.),\n",
       " #48556=IfcDoor('00P6mB8CH7lxk1xqPEfw55',$,'M_Single-Flush:0762 x 2134mm:338190',$,'M_Single-Flush:0762 x 2134mm',#78373,#48546,'338190',2134.,762.,.DOOR.,.NOTDEFINED.,$),\n",
       " #48618=IfcWall('00P6mB8CH7lxk1xqPEfw6i',$,'Basic Wall:Generic - 200mm - Filled:338407',$,'Basic Wall:Generic - 200mm - Filled',#48587,#48614,'338407',.NOTDEFINED.),\n",
       " #48684=IfcColumn('00P6mB8CH7lxk1xqPEfwDe',$,'Concrete Square:250 x 250mm:338723',$,'Concrete Square:250 x 250mm',#48683,#48677,'338723',.COLUMN.),\n",
       " #52288=IfcWall('2WBrOG29n1EfYB0I602Epp',$,'BLK01.012',$,'Basic Wall:250XTERNAL',#52245,#52284,'345983',.SOLIDWALL.),\n",
       " #53583=IfcWall('3nyu_cruT6oQbcJUD4Zudr',$,'Basic Wall:Generic - 150mm Masonry:350210',$,'Basic Wall:Generic - 150mm Masonry',#53542,#53579,'350210',.NOTDEFINED.),\n",
       " #53779=IfcWindow('3nyu_cruT6oQbcJUD4ZubQ',$,'M_Fixed:1000x200:350381',$,'M_Fixed:1000x200',#78447,#53772,'350381',350.,1000.,.WINDOW.,.NOTDEFINED.,$),\n",
       " #53826=IfcWindow('3nyu_cruT6oQbcJUD4ZuZr',$,'M_Fixed:1000x200:350466',$,'M_Fixed:1000x200',#78411,#53819,'350466',350.,1000.,.WINDOW.,.NOTDEFINED.,$),\n",
       " #66549=IfcColumn('300Cf3H_v1XuZwWkHmPROj',$,'Concrete Square:250 x 250mm:356144',$,'Concrete Square:250 x 250mm',#66548,#66542,'356144',.COLUMN.),\n",
       " #68582=IfcWall('1R9abLoJr6rBp4PPVILO56',$,'BLK01.013',$,'Basic Wall:250XTERNAL',#68560,#68578,'361621',.SOLIDWALL.),\n",
       " #68892=IfcStair('1R9abLoJr6rBp4PPVILOFD',$,'Assembled Stair:Stair:362014',$,'Assembled Stair:180mm max riser 275mm tread',#68891,$,'362014',.STRAIGHT_RUN_STAIR.),\n",
       " #70207=IfcWindow('2StwDuQx12Ae3lnUqgmcVD',$,'M_Fixed:1000x200:363000',$,'M_Fixed:1000x200',#78151,#70200,'363000',350.,1000.,.WINDOW.,.NOTDEFINED.,$),\n",
       " #70252=IfcWindow('2StwDuQx12Ae3lnUqgmcHn',$,'M_Fixed:1000x200:363076',$,'M_Fixed:1000x200',#78187,#70245,'363076',350.,1000.,.WINDOW.,.NOTDEFINED.,$),\n",
       " #70290=IfcWindow('3HnRmNS7X6bgLpJG$ycl7i',$,'M_Fixed:1000x200:363459',$,'M_Fixed:1000x200',#78223,#70283,'363459',350.,1000.,.WINDOW.,.NOTDEFINED.,$))"
      ]
     },
     "execution_count": 8,
     "metadata": {},
     "output_type": "execute_result"
    }
   ],
   "source": [
    "foundation.ContainsElements[0].RelatedElements"
   ]
  },
  {
   "cell_type": "markdown",
   "metadata": {},
   "source": [
    "## IFC Class Inheritance Hierarchy\n",
    "\n",
    "Read more on this [link](https://standards.buildingsmart.org/IFC/DEV/IFC4_2/FINAL/HTML/schema/ifckernel/lexical/ifcroot.htm)"
   ]
  },
  {
   "cell_type": "code",
   "execution_count": 9,
   "metadata": {},
   "outputs": [
    {
     "data": {
      "text/plain": [
       "5489"
      ]
     },
     "execution_count": 9,
     "metadata": {},
     "output_type": "execute_result"
    }
   ],
   "source": [
    "rooted_entities = file.by_type('IfcRoot')\n",
    "len(rooted_entities)"
   ]
  },
  {
   "cell_type": "markdown",
   "metadata": {},
   "source": [
    "To list down all the types of building elements present in the project as shown in the image:\n",
    "\n",
    "![](https://standards.buildingsmart.org/IFC/DEV/IFC4_2/FINAL/HTML/diagrams/ifcbuildingelement.png)"
   ]
  },
  {
   "cell_type": "code",
   "execution_count": 10,
   "metadata": {},
   "outputs": [
    {
     "data": {
      "text/plain": [
       "{'IfcBeam',\n",
       " 'IfcBuildingElementProxy',\n",
       " 'IfcColumn',\n",
       " 'IfcDoor',\n",
       " 'IfcMember',\n",
       " 'IfcRailing',\n",
       " 'IfcSlab',\n",
       " 'IfcStair',\n",
       " 'IfcStairFlight',\n",
       " 'IfcWall',\n",
       " 'IfcWindow'}"
      ]
     },
     "execution_count": 10,
     "metadata": {},
     "output_type": "execute_result"
    }
   ],
   "source": [
    "ifc_building_element_entities = set()\n",
    "for entity in rooted_entities:\n",
    "    if entity.is_a('IfcBuildingElement'):\n",
    "        ifc_building_element_entities.add(entity.is_a())\n",
    "\n",
    "ifc_building_element_entities"
   ]
  },
  {
   "cell_type": "markdown",
   "metadata": {},
   "source": [
    "### Get elements by GlobalID"
   ]
  },
  {
   "cell_type": "code",
   "execution_count": 13,
   "metadata": {},
   "outputs": [
    {
     "data": {
      "text/plain": [
       "#561=IfcWall('0WVj9KjC13RO1aj0KqPpHQ',$,'BLK01.063',$,'Basic Wall:250XTERNAL',#502,#557,'290574',.SOLIDWALL.)"
      ]
     },
     "execution_count": 13,
     "metadata": {},
     "output_type": "execute_result"
    }
   ],
   "source": [
    "my_wall = file.by_id(\"0WVj9KjC13RO1aj0KqPpHQ\")\n",
    "my_wall"
   ]
  },
  {
   "cell_type": "code",
   "execution_count": 15,
   "metadata": {},
   "outputs": [
    {
     "data": {
      "text/plain": [
       "'BLK01.063'"
      ]
     },
     "execution_count": 15,
     "metadata": {},
     "output_type": "execute_result"
    }
   ],
   "source": [
    "my_wall.Name"
   ]
  },
  {
   "cell_type": "code",
   "execution_count": 16,
   "metadata": {},
   "outputs": [
    {
     "data": {
      "text/plain": [
       "'290574'"
      ]
     },
     "execution_count": 16,
     "metadata": {},
     "output_type": "execute_result"
    }
   ],
   "source": [
    "my_wall.Tag"
   ]
  },
  {
   "cell_type": "code",
   "execution_count": 17,
   "metadata": {},
   "outputs": [
    {
     "data": {
      "text/plain": [
       "'Basic Wall:250XTERNAL'"
      ]
     },
     "execution_count": 17,
     "metadata": {},
     "output_type": "execute_result"
    }
   ],
   "source": [
    "my_wall.ObjectType"
   ]
  },
  {
   "cell_type": "markdown",
   "metadata": {},
   "source": [
    "Select similar/related objects, objects of similar construction type:"
   ]
  },
  {
   "cell_type": "code",
   "execution_count": 18,
   "metadata": {},
   "outputs": [
    {
     "data": {
      "text/plain": [
       "#75146=IfcRelDefinesByType('2wLFUPrk5A79W2k_NWO63c',$,$,$,(#561,#843,#916,#983,#1043,#1111,#1265,#1337,#1422,#1473,#1563,#1632,#1701,#1776,#1857,#1945,#2018,#2112,#2197,#2291,#2364,#2441,#2526,#2598,#2694,#2781,#2871,#2948,#3029,#3095,#3191,#3268,#3364,#3579,#3650,#4178,#4246,#11792,#16367,#16434,#19636,#19793,#19873,#19965,#20124,#20224,#20297,#20713,#20879,#21060,#21222,#21290,#21371,#21439,#21520,#21586,#21820,#21890,#21980,#22057,#22155,#22248,#22331,#22405,#23685,#24753,#24812,#26196,#26277,#37444,#37525,#37613,#37705,#37788,#37848,#37908,#37979,#38063,#38161,#48174,#52122,#52190,#52288,#53883,#53949,#54051,#67461,#67649,#68582),#772)"
      ]
     },
     "execution_count": 18,
     "metadata": {},
     "output_type": "execute_result"
    }
   ],
   "source": [
    "my_wall.IsTypedBy[0]"
   ]
  },
  {
   "cell_type": "code",
   "execution_count": 19,
   "metadata": {},
   "outputs": [
    {
     "data": {
      "text/plain": [
       "(#561=IfcWall('0WVj9KjC13RO1aj0KqPpHQ',$,'BLK01.063',$,'Basic Wall:250XTERNAL',#502,#557,'290574',.SOLIDWALL.),\n",
       " #843=IfcWall('0WVj9KjC13RO1al0GqPold',$,'BLK01.014',$,'Basic Wall:250XTERNAL',#820,#839,'290995',.SOLIDWALL.),\n",
       " #916=IfcWall('0WVj9KjC13RO1al0GqPogC',$,'BLK01.015',$,'Basic Wall:250XTERNAL',#885,#912,'291288',.SOLIDWALL.),\n",
       " #983=IfcWall('0WVj9KjC13RO1al0GqPoXK',$,'BLK01.016',$,'Basic Wall:250XTERNAL',#954,#979,'291584',.SOLIDWALL.),\n",
       " #1043=IfcWall('0WVj9KjC13RO1al0GqPoWg',$,'BLK01.017',$,'Basic Wall:250XTERNAL',#1021,#1039,'291710',.SOLIDWALL.))"
      ]
     },
     "execution_count": 19,
     "metadata": {},
     "output_type": "execute_result"
    }
   ],
   "source": [
    "my_wall.IsTypedBy[0].RelatedObjects[0:5] ## printing the first 5 values"
   ]
  },
  {
   "cell_type": "markdown",
   "metadata": {},
   "source": [
    "### Let's check with a IFCslab element"
   ]
  },
  {
   "cell_type": "code",
   "execution_count": 20,
   "metadata": {},
   "outputs": [
    {
     "data": {
      "text/plain": [
       "#3838=IfcSlab('2STy3ZkmPE9Q56qgoRFhfb',$,'Floor:Dalle 20_Marble:301156',$,'Floor:Dalle 20_Marble',#3688,#3802,'301156',.FLOOR.)"
      ]
     },
     "execution_count": 20,
     "metadata": {},
     "output_type": "execute_result"
    }
   ],
   "source": [
    "my_slab = file.by_type(\"IfcSlab\")[0]\n",
    "my_slab"
   ]
  },
  {
   "cell_type": "code",
   "execution_count": 21,
   "metadata": {},
   "outputs": [
    {
     "data": {
      "text/plain": [
       "True"
      ]
     },
     "execution_count": 21,
     "metadata": {},
     "output_type": "execute_result"
    }
   ],
   "source": [
    "my_slab.is_a('IfcRoot')"
   ]
  },
  {
   "cell_type": "code",
   "execution_count": 22,
   "metadata": {},
   "outputs": [
    {
     "data": {
      "text/plain": [
       "True"
      ]
     },
     "execution_count": 22,
     "metadata": {},
     "output_type": "execute_result"
    }
   ],
   "source": [
    "my_slab.is_a('IfcProduct')"
   ]
  },
  {
   "cell_type": "code",
   "execution_count": 23,
   "metadata": {},
   "outputs": [
    {
     "data": {
      "text/plain": [
       "True"
      ]
     },
     "execution_count": 23,
     "metadata": {},
     "output_type": "execute_result"
    }
   ],
   "source": [
    "my_slab.is_a('IfcBuildingElement')"
   ]
  },
  {
   "cell_type": "markdown",
   "metadata": {},
   "source": [
    "So the IFCWall, IFCSlab etc and all the other IFCBuildingElement inherits their parent class"
   ]
  },
  {
   "cell_type": "markdown",
   "metadata": {},
   "source": [
    "## Property Sets\n",
    "\n",
    "Property sets in IFC files are essential for accurately representing and exchanging detailed information about building elements, enabling better collaboration and data-driven decision-making throughout the building's lifecycle, from design and construction to operation and maintenance.\n",
    "\n",
    "![](https://biblus.accasoftware.com/en/wp-content/uploads/sites/2/2020/02/Ifc-Property-Definition.jpg)\n",
    "\n",
    "Property sets in IFC are typically organized hierarchically, with the following key components:\n",
    "\n",
    "- Property Set: This is the highest level of organization and represents a set of related properties. For example, you might have a \"Wall Properties\" property set that includes attributes like thickness, height, and material.\n",
    "\n",
    "- Property: Properties are individual pieces of information within a property set. Each property has a name, a data type (e.g., text, number, date), and a value. In the \"Wall Properties\" set, \"Thickness\" could be a property with a numerical value.\n",
    "\n",
    "- Property Single Value: Some properties may have a single value, while others can have multiple values. For example, a wall's material might have a single value (e.g., \"Brick\") or multiple values to represent complex materials.\n",
    "\n",
    "- Property Enumeration Value: Some properties use predefined lists of values, known as enumeration values, to ensure consistency. For example, a property for a door's swing direction might have enumeration values like \"Inward,\" \"Outward,\" or \"Swing Both Ways.\""
   ]
  },
  {
   "cell_type": "code",
   "execution_count": 24,
   "metadata": {},
   "outputs": [
    {
     "name": "stdout",
     "output_type": "stream",
     "text": [
      "List all property sets in this element:\n"
     ]
    },
    {
     "data": {
      "text/plain": [
       "dict_keys(['Pset_EnvironmentalImpactIndicators', 'Pset_ReinforcementBarPitchOfWall', 'Pset_WallCommon'])"
      ]
     },
     "execution_count": 24,
     "metadata": {},
     "output_type": "execute_result"
    }
   ],
   "source": [
    "my_wall = file.by_type(\"IfcWall\")[0]\n",
    "psets = Element.get_psets(my_wall, psets_only=True)\n",
    "print(\"List all property sets in this element:\")\n",
    "psets.keys()"
   ]
  },
  {
   "cell_type": "code",
   "execution_count": 27,
   "metadata": {},
   "outputs": [
    {
     "data": {
      "text/plain": [
       "{'Pset_EnvironmentalImpactIndicators': {'Reference': '250XTERNAL', 'id': 791},\n",
       " 'Pset_ReinforcementBarPitchOfWall': {'Reference': '250XTERNAL', 'id': 794},\n",
       " 'Pset_WallCommon': {'Reference': '250XTERNAL',\n",
       "  'IsExternal': True,\n",
       "  'id': 800,\n",
       "  'LoadBearing': False,\n",
       "  'ExtendToStructure': True}}"
      ]
     },
     "execution_count": 27,
     "metadata": {},
     "output_type": "execute_result"
    }
   ],
   "source": [
    "psets"
   ]
  },
  {
   "cell_type": "code",
   "execution_count": 29,
   "metadata": {},
   "outputs": [
    {
     "data": {
      "text/plain": [
       "{'Reference': '250XTERNAL',\n",
       " 'IsExternal': True,\n",
       " 'id': 800,\n",
       " 'LoadBearing': False,\n",
       " 'ExtendToStructure': True}"
      ]
     },
     "execution_count": 29,
     "metadata": {},
     "output_type": "execute_result"
    }
   ],
   "source": [
    "psets['Pset_WallCommon']"
   ]
  },
  {
   "cell_type": "code",
   "execution_count": 30,
   "metadata": {},
   "outputs": [
    {
     "data": {
      "text/plain": [
       "True"
      ]
     },
     "execution_count": 30,
     "metadata": {},
     "output_type": "execute_result"
    }
   ],
   "source": [
    "psets['Pset_WallCommon']['ExtendToStructure']"
   ]
  },
  {
   "cell_type": "markdown",
   "metadata": {},
   "source": [
    "## Quantity Sets"
   ]
  },
  {
   "cell_type": "code",
   "execution_count": 31,
   "metadata": {},
   "outputs": [
    {
     "data": {
      "text/plain": [
       "{'Qto_WallBaseQuantities': {'Height': 3360.0,\n",
       "  'Length': 3842.12759802427,\n",
       "  'Width': 250.0,\n",
       "  'GrossFootprintArea': 0.960531899506066,\n",
       "  'NetVolume': 3.22738718234038,\n",
       "  'NetSideArea': 29.4201612577353,\n",
       "  'id': 586}}"
      ]
     },
     "execution_count": 31,
     "metadata": {},
     "output_type": "execute_result"
    }
   ],
   "source": [
    "my_wall = file.by_type(\"IfcWall\")[0]\n",
    "psets = Element.get_psets(my_wall, qtos_only=True)\n",
    "psets"
   ]
  },
  {
   "cell_type": "markdown",
   "metadata": {},
   "source": [
    "To get the units of these quantities:"
   ]
  },
  {
   "cell_type": "code",
   "execution_count": 32,
   "metadata": {},
   "outputs": [
    {
     "name": "stdout",
     "output_type": "stream",
     "text": [
      "#43=IfcSIUnit(*,.LENGTHUNIT.,.MILLI.,.METRE.)\n",
      "#45=IfcSIUnit(*,.AREAUNIT.,$,.SQUARE_METRE.)\n",
      "#46=IfcSIUnit(*,.VOLUMEUNIT.,$,.CUBIC_METRE.)\n",
      "#50=IfcConversionBasedUnit(#48,.PLANEANGLEUNIT.,'DEGREE',#49)\n",
      "#52=IfcSIUnit(*,.MASSUNIT.,.KILO.,.GRAM.)\n",
      "#55=IfcDerivedUnit((#53,#54),.MASSDENSITYUNIT.,$)\n",
      "#58=IfcDerivedUnit((#57),.MOMENTOFINERTIAUNIT.,$)\n",
      "#60=IfcSIUnit(*,.TIMEUNIT.,$,.SECOND.)\n",
      "#61=IfcSIUnit(*,.FREQUENCYUNIT.,$,.HERTZ.)\n",
      "#63=IfcSIUnit(*,.THERMODYNAMICTEMPERATUREUNIT.,$,.DEGREE_CELSIUS.)\n",
      "#67=IfcDerivedUnit((#64,#65,#66),.THERMALTRANSMITTANCEUNIT.,$)\n",
      "#72=IfcDerivedUnit((#70,#71),.VOLUMETRICFLOWRATEUNIT.,$)\n",
      "#74=IfcSIUnit(*,.ELECTRICCURRENTUNIT.,$,.AMPERE.)\n",
      "#75=IfcSIUnit(*,.ELECTRICVOLTAGEUNIT.,$,.VOLT.)\n",
      "#76=IfcSIUnit(*,.POWERUNIT.,$,.WATT.)\n",
      "#77=IfcSIUnit(*,.FORCEUNIT.,.KILO.,.NEWTON.)\n",
      "#78=IfcSIUnit(*,.ILLUMINANCEUNIT.,$,.LUX.)\n",
      "#79=IfcSIUnit(*,.LUMINOUSFLUXUNIT.,$,.LUMEN.)\n",
      "#80=IfcSIUnit(*,.LUMINOUSINTENSITYUNIT.,$,.CANDELA.)\n",
      "#85=IfcDerivedUnit((#81,#82,#83,#84),.USERDEFINED.,'Luminous Efficacy')\n",
      "#89=IfcDerivedUnit((#87,#88),.LINEARVELOCITYUNIT.,$)\n",
      "#91=IfcSIUnit(*,.PRESSUREUNIT.,$,.PASCAL.)\n",
      "#95=IfcDerivedUnit((#92,#93,#94),.USERDEFINED.,'Friction Loss')\n",
      "#101=IfcDerivedUnit((#97,#98,#99,#100),.LINEARFORCEUNIT.,$)\n",
      "#107=IfcDerivedUnit((#103,#104,#105,#106),.PLANARFORCEUNIT.,$)\n"
     ]
    }
   ],
   "source": [
    "project = file.by_type(\"IfcProject\")[0]\n",
    "for unit in project.UnitsInContext.Units:\n",
    "    print(unit)"
   ]
  },
  {
   "cell_type": "markdown",
   "metadata": {},
   "source": [
    "## Exporting the IFC data to Json and Excel file\n",
    "\n",
    "Now we know the hierarchy: \n",
    "\n",
    "![](https://standards.buildingsmart.org/IFC/DEV/IFC4_2/FINAL/HTML/diagrams/ifcbuildingelement.png)\n",
    "\n",
    "We want to print all the building elements present in this file.\n",
    "\n",
    "here we will export the IFC data of each IfcBuildingElement:\n",
    "- General data - ID, class, type, Name, level etc\n",
    "- Quantity sets \n",
    "- Property sets"
   ]
  },
  {
   "cell_type": "code",
   "execution_count": 33,
   "metadata": {},
   "outputs": [],
   "source": [
    "def tabulate_pset_data(psets):\n",
    "    psets_dict = {}\n",
    "    for pset_name in psets.keys():\n",
    "        for prop_name in psets[pset_name].keys():\n",
    "            psets_dict[pset_name+\".\"+prop_name] = psets[pset_name][prop_name]\n",
    "\n",
    "    return psets_dict\n",
    "\n",
    "def extract_IFC_data_by_elements(file, class_name):\n",
    "    elements = file.by_type(class_name)\n",
    "    data = []\n",
    "    for elem in elements:\n",
    "        ## get the basic info\n",
    "        basic_info = elem.get_info()\n",
    "        basic_info['Level'] = Element.get_container(elem).Name if Element.get_container(elem) else \"\"\n",
    "\n",
    "        ## get the psets\n",
    "        psets = Element.get_psets(elem, psets_only=True)\n",
    "        psets_data = tabulate_pset_data(psets)\n",
    "\n",
    "        qtos = Element.get_psets(elem, qtos_only=True)\n",
    "        qtos_data = tabulate_pset_data(qtos)\n",
    "\n",
    "        final_data = basic_info | psets_data | qtos_data  ## This concatenation of dictionaries is only available in python >= 3.9\n",
    "\n",
    "        data.append(final_data)\n",
    "\n",
    "    return data\n",
    "\n",
    "def wrtie_data_to_excel(ifc_file_path):\n",
    "\n",
    "    start_time = time.time()\n",
    "    file = ifcopenshell.open(ifc_file_path)\n",
    "\n",
    "    element_types = set([x.is_a() for x in file.by_type('IfcBuildingElement')])\n",
    "\n",
    "    with pd.ExcelWriter(r'export/IFC_data.xlsx', engine='xlsxwriter') as writer:\n",
    "        for element_type in tqdm(element_types, unit=\" element type\"):\n",
    "            data = extract_IFC_data_by_elements(file, element_type)\n",
    "            df = pd.DataFrame(data)\n",
    "            df = df.dropna(axis=1, how='all')\n",
    "            df.to_excel(writer, sheet_name=element_type)\n",
    "\n",
    "    print(f\"Excel file exported successfully in {(time.time()-start_time):.2f}\")\n"
   ]
  },
  {
   "cell_type": "code",
   "execution_count": 34,
   "metadata": {},
   "outputs": [
    {
     "name": "stdout",
     "output_type": "stream",
     "text": [
      "IfcStair\n",
      "IfcStairFlight\n",
      "IfcRailing\n",
      "IfcBeam\n",
      "IfcWindow\n",
      "IfcSlab\n",
      "IfcWall\n",
      "IfcBuildingElementProxy\n",
      "IfcColumn\n",
      "IfcDoor\n",
      "IfcMember\n"
     ]
    }
   ],
   "source": [
    "for i in set([x.is_a() for x in file.by_type('IfcBuildingElement')]):\n",
    "    print(i)"
   ]
  },
  {
   "cell_type": "code",
   "execution_count": 35,
   "metadata": {},
   "outputs": [
    {
     "name": "stderr",
     "output_type": "stream",
     "text": [
      "100%|██████████| 11/11 [00:00<00:00, 12.97 element type/s]\n"
     ]
    },
    {
     "name": "stdout",
     "output_type": "stream",
     "text": [
      "Excel file exported successfully in 1.74\n"
     ]
    }
   ],
   "source": [
    "ifc_file_path = r\"IFC Files\\MAD_SCIENTIST_21.ifc\"\n",
    "wrtie_data_to_excel(ifc_file_path)"
   ]
  },
  {
   "cell_type": "markdown",
   "metadata": {},
   "source": [
    "## References:\n",
    "\n",
    "1. [IFC4 Documentation](https://standards.buildingsmart.org/IFC/RELEASE/IFC4/FINAL/HTML/)\n",
    "2. [ifcopenshell.util.element](https://blenderbim.org/docs-python/autoapi/ifcopenshell/util/element/index.html#module-ifcopenshell.util.element)\n",
    "3. [Youtube video on Export IFC to JSON, Pandas, CSV, Excel (IFC 101 - E.08)](https://youtu.be/RjG_AFiTedE?si=OHe8TauB1foHsSQl)"
   ]
  }
 ],
 "metadata": {
  "kernelspec": {
   "display_name": "ifc-env",
   "language": "python",
   "name": "python3"
  },
  "language_info": {
   "codemirror_mode": {
    "name": "ipython",
    "version": 3
   },
   "file_extension": ".py",
   "mimetype": "text/x-python",
   "name": "python",
   "nbconvert_exporter": "python",
   "pygments_lexer": "ipython3",
   "version": "3.11.5"
  },
  "orig_nbformat": 4
 },
 "nbformat": 4,
 "nbformat_minor": 2
}
